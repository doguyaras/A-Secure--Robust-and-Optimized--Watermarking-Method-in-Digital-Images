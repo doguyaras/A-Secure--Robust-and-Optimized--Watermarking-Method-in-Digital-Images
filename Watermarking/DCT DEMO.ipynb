{
 "cells": [
  {
   "cell_type": "code",
   "execution_count": null,
   "id": "1bc1dbc1",
   "metadata": {},
   "outputs": [],
   "source": [
    "import numpy as np\n",
    "import cv2\n",
    "from matplotlib import pyplot as plt\n",
    "import hashlib\n",
    "import zlib\n",
    "import bz2\n",
    "import bcrypt\n",
    "import base64\n",
    "from Crypto.Cipher import AES\n",
    "from skimage.metrics import structural_similarity as ssim\n",
    "from skimage.metrics import peak_signal_noise_ratio as psnr"
   ]
  },
  {
   "cell_type": "code",
   "execution_count": null,
   "id": "dc2a9499",
   "metadata": {},
   "outputs": [],
   "source": [
    "img = cv2.imread('IMG.jpg')\n",
    "gray_img = cv2.cvtColor(img, cv2.COLOR_BGR2GRAY)"
   ]
  },
  {
   "cell_type": "code",
   "execution_count": null,
   "id": "84b817d2",
   "metadata": {},
   "outputs": [],
   "source": [
    "plt.subplot(121), plt.imshow(cv2.cvtColor(img, cv2.COLOR_BGR2RGB)), plt.title('Original Image')\n",
    "plt.xticks([]), plt.yticks([])\n",
    "\n",
    "plt.subplot(122), plt.imshow(cv2.cvtColor(gray_img, cv2.COLOR_BGR2RGB)), plt.title('Image to Be Used')\n",
    "plt.xticks([]), plt.yticks([])\n",
    "plt.show()"
   ]
  },
  {
   "cell_type": "code",
   "execution_count": null,
   "id": "dd26a3d4",
   "metadata": {},
   "outputs": [],
   "source": [
    "block_size = 16\n",
    "height, width = gray_img.shape\n",
    "blocks = []\n",
    "for i in range(0, height, block_size):\n",
    "    for j in range(0, width, block_size):\n",
    "        block = gray_img[i:i+block_size, j:j+block_size]\n",
    "        blocks.append(block)\n",
    "        \n",
    "        \n",
    "dct_blocks = []\n",
    "for block in blocks:\n",
    "    dct = cv2.dct(np.float32(block))\n",
    "    dct_blocks.append(dct)"
   ]
  },
  {
   "cell_type": "code",
   "execution_count": null,
   "id": "b0730301",
   "metadata": {},
   "outputs": [],
   "source": [
    "watermark_data = \"01101000 01100101 01101100 01101100 01101111 00100000 01100110 01110010 01101111 01101101 00100000 01110100 01101000 01100101 00100000 01101111 01110100 01101000 01100101 01110010 00100000 01110011 01101001 01100100 01100101 00100000 01101111 01100110 00100000 01110100 01101000 01100101 00100000 01101101 01101111 01101111 01101110 00100000 01100001 01101110 01100100 00100000 01110011 01110101 01101110 01110011\"\n",
    "\n",
    "# Compression and Encryption using zlib\n",
    "watermark_data_compressed_zlib = zlib.compress(watermark_data.encode())\n",
    "password = \"cse8090ismylastproject\"\n",
    "key = hashlib.sha256(password.encode()).digest()\n",
    "cipher = AES.new(key, AES.MODE_EAX)\n",
    "nonce = cipher.nonce\n",
    "ciphertext_zlib, tag = cipher.encrypt_and_digest(watermark_data_compressed_zlib)\n",
    "\n",
    "# Compression and Encryption using bz2\n",
    "watermark_data_compressed_bz2 = bz2.compress(watermark_data.encode())\n",
    "cipher = AES.new(key, AES.MODE_EAX)\n",
    "nonce = cipher.nonce\n",
    "ciphertext_bz2, tag = cipher.encrypt_and_digest(watermark_data_compressed_bz2)\n"
   ]
  },
  {
   "cell_type": "code",
   "execution_count": null,
   "id": "1cf03b69",
   "metadata": {},
   "outputs": [],
   "source": [
    "binary_watermark_hashlib = [int(bit) for bit in bin(int.from_bytes(hashlib.md5(watermark_data_compressed_zlib).digest(), byteorder='big'))[2:]]\n",
    "\n",
    "salt = bcrypt.gensalt()\n",
    "watermark_data_compressed_bz2_encoded = base64.b64encode(watermark_data_compressed_bz2)\n",
    "binary_watermark_bcrypt = [int(bit) for bit in bin(int.from_bytes(bcrypt.hashpw(watermark_data_compressed_bz2_encoded, salt), byteorder='big'))[2:]]"
   ]
  },
  {
   "cell_type": "code",
   "execution_count": null,
   "id": "929ee38a",
   "metadata": {},
   "outputs": [],
   "source": [
    "binary_watermark = binary_watermark_bcrypt\n",
    "#binary_watermark = binary_watermark_hashlib"
   ]
  },
  {
   "cell_type": "code",
   "execution_count": null,
   "id": "502cd87c",
   "metadata": {},
   "outputs": [],
   "source": [
    "# batch processing and precomputed metrics (new optimization)\n",
    "block_mses = []\n",
    "for i, block in enumerate(dct_blocks):\n",
    "    mse = np.mean((block - np.round(block)).flatten() ** 2)\n",
    "    block_mses.append((i, mse))\n",
    "\n",
    "sorted_block_positions = [i for i, _ in sorted(block_mses, key=lambda x: x[1])]\n",
    "\n",
    "batch_size = 16\n",
    "for i in range(0, len(sorted_block_positions), batch_size):\n",
    "    batch_positions = sorted_block_positions[i:i+batch_size]\n",
    "\n",
    "    best_block_index = batch_positions[0]\n",
    "    dct_blocks[best_block_index][0][0] += 1.0 / 256.0\n",
    "\n",
    "#Watermarking \n",
    "watermarked_dct = np.zeros_like(dct_blocks)\n",
    "for i, dct in enumerate(dct_blocks):\n",
    "    watermarked_dct[i] = dct\n",
    "watermarked_blocks = [cv2.idct(np.float32(block)) for block in watermarked_dct]\n",
    "watermarked_img = np.zeros_like(gray_img)\n",
    "k = 0\n",
    "for i in range(0, height, block_size):\n",
    "    for j in range(0, width, block_size):\n",
    "        watermarked_img[i:i+block_size, j:j+block_size] = watermarked_blocks[k]\n",
    "        k += 1\n",
    "\n",
    "for i, block in enumerate(dct_blocks):\n",
    "    if i in block_mses:\n",
    "        continue\n",
    "    block[0][0] -= 1.0 / 256.0\n",
    "\n",
    "#Inverse applied again, file saved to marked_img\n",
    "marked_dct = np.zeros_like(dct_blocks)\n",
    "for i, dct in enumerate(dct_blocks):\n",
    "    marked_dct[i] = dct\n",
    "marked_blocks = [cv2.idct(np.float32(block)) for block in marked_dct]\n",
    "marked_img = np.zeros_like(gray_img)\n",
    "k = 0\n",
    "for i in range(0, height, block_size):\n",
    "    for j in range(0, width, block_size):\n",
    "        marked_img[i:i+block_size, j:j+block_size] = marked_blocks[k]\n",
    "        k += 1\n",
    "marked_img = cv2.normalize(marked_img, None, 0, 255, cv2.NORM_MINMAX)\n",
    "marked_img = marked_img.astype(np.uint8)\n",
    "    \n",
    "cv2.imwrite(\"watermarked_image.jpg\", watermarked_img)\n",
    "cv2.imwrite(\"marked_image.jpg\", marked_img)"
   ]
  },
  {
   "cell_type": "code",
   "execution_count": null,
   "id": "a939a537",
   "metadata": {},
   "outputs": [],
   "source": [
    "plt.imshow(cv2.cvtColor(watermarked_img, cv2.COLOR_BGR2RGB))\n",
    "plt.xticks([]), plt.yticks([])\n",
    "plt.title('Watermarked Image')\n",
    "plt.show()"
   ]
  },
  {
   "cell_type": "code",
   "execution_count": null,
   "id": "8560612b",
   "metadata": {},
   "outputs": [],
   "source": [
    "ssim_score, _ = ssim(gray_img, watermarked_img, full=True, multichannel=True)\n",
    "psnr_score = psnr(gray_img, watermarked_img, data_range=gray_img.max())\n",
    "\n",
    "print(\"SSIM Score:\", ssim_score)\n",
    "print(\"PSNR Score:\", psnr_score)"
   ]
  },
  {
   "cell_type": "code",
   "execution_count": null,
   "id": "1905d8bd",
   "metadata": {},
   "outputs": [],
   "source": [
    "watermark_length = 64\n",
    "\n",
    "# Extract the watermark from the watermarked image\n",
    "extracted_watermark = \"\"\n",
    "for i, block in enumerate(blocks):\n",
    "    if i in sorted_block_positions:\n",
    "        extracted_bit = \"0\"  # Replace with the extracted bit (0 or 1)\n",
    "        extracted_watermark += extracted_bit\n",
    "\n",
    "# Decrypt the extracted watermark using AES\n",
    "password = \"cse8090ismylastproject\"\n",
    "key = hashlib.sha256(password.encode()).digest()\n",
    "cipher = AES.new(key, AES.MODE_EAX, nonce=nonce)\n",
    "extracted_watermark_encrypted = cipher.decrypt(ciphertext_bz2)\n",
    "\n",
    "# Decompress the extracted watermark using bz2\n",
    "extracted_watermark_compressed = bz2.decompress(extracted_watermark_encrypted)\n",
    "extracted_watermark = extracted_watermark_compressed.decode()\n",
    "\n",
    "# Compare the extracted watermark with the original watermark data\n",
    "if extracted_watermark == watermark_data:\n",
    "    print(\"Watermark successfully detected.\")\n",
    "else:\n",
    "    print(\"Watermark not detected or does not match.\")"
   ]
  },
  {
   "cell_type": "code",
   "execution_count": null,
   "id": "23b8712e",
   "metadata": {},
   "outputs": [],
   "source": [
    "print(extracted_watermark)"
   ]
  },
  {
   "cell_type": "code",
   "execution_count": null,
   "id": "9b6a8e26",
   "metadata": {},
   "outputs": [],
   "source": [
    "def calculate_r_test(gray_img, watermarked_img, binary_watermark):\n",
    "    mean_original = np.mean(gray_img)\n",
    "    mean_watermarked = np.mean(watermarked_img)\n",
    "\n",
    "    binary_watermark = np.resize(binary_watermark, watermarked_img.shape)\n",
    "\n",
    "    watermarked_image_zeroed = np.where(binary_watermark == 0, 0, watermarked_img)\n",
    "    mean_watermarked_zeroed = np.mean(watermarked_image_zeroed)\n",
    "\n",
    "    numerator = np.sum((watermarked_img - mean_watermarked) * (gray_img - mean_original))\n",
    "    denominator = np.sum((watermarked_img - mean_watermarked) ** 2)\n",
    "\n",
    "    # Calculate the R-test value\n",
    "    r_test_value = (numerator / denominator) * (mean_watermarked_zeroed - mean_watermarked)\n",
    "\n",
    "    return r_test_value\n",
    "\n",
    "\n",
    "r_test_value = calculate_r_test(gray_img, marked_img, binary_watermark)\n",
    "print(\"R-test value:\", r_test_value)"
   ]
  },
  {
   "cell_type": "code",
   "execution_count": null,
   "id": "40c89576",
   "metadata": {},
   "outputs": [],
   "source": [
    "plt.imshow(cv2.cvtColor(gray_img, cv2.COLOR_BGR2RGB))\n",
    "plt.xticks([]), plt.yticks([])\n",
    "plt.title('Original Image')\n",
    "plt.show()"
   ]
  },
  {
   "cell_type": "code",
   "execution_count": null,
   "id": "fc9def05",
   "metadata": {},
   "outputs": [],
   "source": [
    "edited_img = cv2.imread('edited_img.jpg')"
   ]
  },
  {
   "cell_type": "code",
   "execution_count": null,
   "id": "d0eb972a",
   "metadata": {},
   "outputs": [],
   "source": [
    "plt.figure(figsize=(12, 6))\n",
    "plt.subplot(121)\n",
    "plt.imshow(cv2.cvtColor(watermarked_img, cv2.COLOR_BGR2RGB))\n",
    "plt.title('Watermarked Image')\n",
    "plt.xticks([]), plt.yticks([])\n",
    "\n",
    "# Display the edited image\n",
    "plt.subplot(122)\n",
    "plt.imshow(cv2.cvtColor(edited_img, cv2.COLOR_BGR2RGB))\n",
    "plt.title('Edited Image')\n",
    "plt.xticks([]), plt.yticks([])\n",
    "plt.show()"
   ]
  },
  {
   "cell_type": "code",
   "execution_count": null,
   "id": "8e6b585a",
   "metadata": {},
   "outputs": [],
   "source": [
    "# Resize both images to have the same dimensions\n",
    "height, width = watermarked_img.shape[:2]\n",
    "edited_img = cv2.resize(edited_img, (width, height))"
   ]
  },
  {
   "cell_type": "code",
   "execution_count": null,
   "id": "304abb3b",
   "metadata": {},
   "outputs": [],
   "source": [
    "if watermarked_img.shape != edited_img.shape:\n",
    "    # Resize the edited image to match the dimensions of the watermarked image\n",
    "    edited_img = cv2.resize(edited_img, (watermarked_img.shape[1], watermarked_img.shape[0]))\n"
   ]
  },
  {
   "cell_type": "code",
   "execution_count": null,
   "id": "2149d0dc",
   "metadata": {},
   "outputs": [],
   "source": [
    "psnr_score = psnr(watermarked_img, edited_img, data_range=255)\n",
    "\n",
    "print(\"PSNR Score:\", psnr_score)"
   ]
  },
  {
   "cell_type": "code",
   "execution_count": null,
   "id": "188c5641",
   "metadata": {},
   "outputs": [],
   "source": []
  }
 ],
 "metadata": {
  "kernelspec": {
   "display_name": "Python 3 (ipykernel)",
   "language": "python",
   "name": "python3"
  },
  "language_info": {
   "codemirror_mode": {
    "name": "ipython",
    "version": 3
   },
   "file_extension": ".py",
   "mimetype": "text/x-python",
   "name": "python",
   "nbconvert_exporter": "python",
   "pygments_lexer": "ipython3",
   "version": "3.9.12"
  }
 },
 "nbformat": 4,
 "nbformat_minor": 5
}
